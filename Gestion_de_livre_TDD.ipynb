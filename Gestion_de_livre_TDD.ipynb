{
  "cells": [
    {
      "cell_type": "code",
      "source": [
        "# Installation de la bibliothèque PyTest pour les tests\n",
        "!pip install pytest\n",
        "# Installation de la bibliothèque Hypothesis pour les tests de propriétés\n",
        "!pip install hypothesis"
      ],
      "outputs": [
        {
          "output_type": "stream",
          "name": "stdout",
          "text": [
            "Requirement already satisfied: pytest in /opt/conda/lib/python3.9/site-packages (7.4.3)\r\n",
            "Requirement already satisfied: iniconfig in /opt/conda/lib/python3.9/site-packages (from pytest) (2.0.0)\r\n",
            "Requirement already satisfied: exceptiongroup>=1.0.0rc8 in /opt/conda/lib/python3.9/site-packages (from pytest) (1.1.1)\r\n",
            "Requirement already satisfied: pluggy<2.0,>=0.12 in /opt/conda/lib/python3.9/site-packages (from pytest) (1.3.0)\r\n",
            "Requirement already satisfied: packaging in /opt/conda/lib/python3.9/site-packages (from pytest) (23.1)\r\n",
            "Requirement already satisfied: tomli>=1.0.0 in /opt/conda/lib/python3.9/site-packages (from pytest) (2.0.1)\r\n"
          ]
        },
        {
          "output_type": "stream",
          "name": "stdout",
          "text": [
            "Requirement already satisfied: hypothesis in /opt/conda/lib/python3.9/site-packages (6.91.0)\r\n"
          ]
        },
        {
          "output_type": "stream",
          "name": "stdout",
          "text": [
            "Requirement already satisfied: sortedcontainers<3.0.0,>=2.1.0 in /opt/conda/lib/python3.9/site-packages (from hypothesis) (2.4.0)\r\n",
            "Requirement already satisfied: attrs>=19.2.0 in /opt/conda/lib/python3.9/site-packages (from hypothesis) (23.1.0)\r\n",
            "Requirement already satisfied: exceptiongroup>=1.0.0 in /opt/conda/lib/python3.9/site-packages (from hypothesis) (1.1.1)\r\n"
          ]
        }
      ],
      "execution_count": null,
      "metadata": {
        "noteable": {
          "cell_type": "code"
        },
        "ExecuteTime": {
          "start_time": "2023-11-30T11:13:03.152990+00:00",
          "end_time": "2023-11-30T11:13:08.747085+00:00"
        }
      },
      "id": "994a02a2-a327-443b-a648-7ef560d77d93"
    },
    {
      "cell_type": "markdown",
      "source": [
        "## Classe Book\n",
        "\n",
        "Cette section contient la définition de la classe `Book` et les tests associés pour vérifier la création correcte des instances de livres et la gestion des erreurs."
      ],
      "metadata": {
        "noteable": {
          "cell_type": "markdown"
        }
      },
      "id": "6324d5b3-4f63-4bb4-98b8-bf2b898b666e"
    },
    {
      "cell_type": "code",
      "source": [
        "# Import de pytest pour les tests\n",
        "import pytest\n",
        "\n",
        "# Définition de la classe Book\n",
        "class Book:\n",
        "    def __init__(self, title, author):\n",
        "        if not title or not author:\n",
        "            raise ValueError(\"Title and author cannot be empty\")\n",
        "        self.title = title\n",
        "        self.author = author\n",
        "\n",
        "    def __repr__(self):\n",
        "        return f\"Book(title='{self.title}', author='{self.author}')\"\n",
        "\n",
        "# Tests pour la classe Book\n",
        "\n",
        "def test_create_book_with_valid_data():\n",
        "    # Test la création d'un livre avec des données valides\n",
        "    book = Book(\"Harry Potter\", \"JK Rowling\")\n",
        "    assert book.title == \"Harry Potter\"\n",
        "    assert book.author == \"JK Rowling\"\n",
        "\n",
        "def test_create_book_with_empty_title_raises_error():\n",
        "    # Test la levée d'une erreur si le titre est vide\n",
        "    with pytest.raises(ValueError):\n",
        "        Book(\"\", \"JK Rowling\")\n",
        "\n",
        "def test_create_book_with_empty_author_raises_error():\n",
        "    # Test la levée d'une erreur si l'auteur est vide\n",
        "    with pytest.raises(ValueError):\n",
        "        Book(\"Harry Potter\", \"\")"
      ],
      "outputs": [],
      "execution_count": null,
      "metadata": {
        "noteable": {
          "cell_type": "code"
        },
        "ExecuteTime": {
          "start_time": "2023-11-30T11:13:08.752974+00:00",
          "end_time": "2023-11-30T11:13:08.909450+00:00"
        }
      },
      "id": "15881b91-53a9-4980-ad2c-4fceb92eb9e6"
    },
    {
      "cell_type": "markdown",
      "source": [
        "## Classe BookManager\n",
        "\n",
        "Cette section contient la définition de la classe `BookManager` et les tests associés pour vérifier l'ajout de livres à la collection et la récupération de la liste des livres dans l'ordre alphabétique."
      ],
      "metadata": {
        "noteable": {
          "cell_type": "markdown"
        }
      },
      "id": "a514b216-c04f-4e1f-8a94-eced12022679"
    },
    {
      "cell_type": "code",
      "source": [
        "# Classe pour gérer la liste des livres\n",
        "class BookManager:\n",
        "    def __init__(self):\n",
        "        self.books = []\n",
        "\n",
        "    def add_book(self, book):\n",
        "        # Vérifie si l'objet ajouté est une instance de Book\n",
        "        if not isinstance(book, Book):\n",
        "            raise TypeError(\"Only Book instances can be added\")\n",
        "        self.books.append(book)\n",
        "\n",
        "    def list_books(self):\n",
        "        # Retourne la liste des livres triée par titre\n",
        "        return sorted(self.books, key=lambda book: book.title)\n",
        "\n",
        "# Tests pour BookManager\n",
        "\n",
        "def test_add_book():\n",
        "    # Test l'ajout d'un livre au gestionnaire\n",
        "    manager = BookManager()\n",
        "    book = Book(\"Harry Potter\", \"JK Rowling\")\n",
        "    manager.add_book(book)\n",
        "    assert book in manager.books\n",
        "\n",
        "def test_list_books_in_alphabetical_order():\n",
        "    # Test si les livres sont listés dans l'ordre alphabétique\n",
        "    manager = BookManager()\n",
        "    book1 = Book(\"Animal Farm\", \"George Orwell\")\n",
        "    book2 = Book(\"1984\", \"George Orwell\")\n",
        "    manager.add_book(book1)\n",
        "    manager.add_book(book2)\n",
        "    assert manager.list_books() == [book2, book1]\n",
        "\n",
        "def test_list_books_contains_all_books():\n",
        "    # Test si la liste des livres contient tous les livres ajoutés\n",
        "    manager = BookManager()\n",
        "    book1 = Book(\"Animal Farm\", \"George Orwell\")\n",
        "    book2 = Book(\"1984\", \"George Orwell\")\n",
        "    book3 = Book(\"Harry Potter\", \"JK Rowling\")\n",
        "    manager.add_book(book1)\n",
        "    manager.add_book(book2)\n",
        "    manager.add_book(book3)\n",
        "    assert set(manager.list_books()) == {book1, book2, book3}"
      ],
      "outputs": [],
      "execution_count": null,
      "metadata": {
        "jupyter": {
          "outputs_hidden": false,
          "source_hidden": false
        },
        "noteable": {
          "cell_type": "code"
        },
        "ExecuteTime": {
          "start_time": "2023-11-30T11:13:08.939842+00:00",
          "end_time": "2023-11-30T11:13:09.098003+00:00"
        }
      },
      "id": "0fd0b702-d7b2-48c1-9bdb-6a9a28a62719"
    },
    {
      "cell_type": "markdown",
      "source": [
        "Actions possibles :\n",
        "\n",
        "Créer un livre : La classe `BookManager` permet de créer un livre et de l'ajouter à une liste.\n",
        "\n",
        "Lister tous les livres par ordre alphabétique : La méthode `list_books` dans BookManager trie et retourne les livres par ordre alphabétique du titre.\n",
        "\n",
        "Ajout d'un livre : La méthode `add_book` dans BookManager permet d'ajouter un livre.\n",
        "\n",
        "Règles sur les attributs du livre : Des vérifications sont effectuées pour s'assurer que le titre et l'auteur du livre ne sont pas vides.\n",
        "\n",
        "Récupération et tri des livres : La méthode `list_books` retourne la liste des livres triée par ordre alphabétique du titre."
      ],
      "metadata": {
        "noteable": {
          "cell_type": "markdown"
        }
      },
      "id": "221dc4a0-3d58-439d-a5ff-56310859d17e"
    },
    {
      "cell_type": "markdown",
      "source": [
        "## Classe Interface BookDatabasePort\n",
        "\n",
        "Cette section contient la définition de la classe `BookDatabasePort`. L'interface `BookDatabasePort` et son implémentation `BookDatabaseImplementation` servent de ports pour une future intégration avec une base de données."
      ],
      "metadata": {
        "noteable": {
          "cell_type": "markdown"
        }
      },
      "id": "a266aef6-cc34-4b9b-98e6-b98112d55b27"
    },
    {
      "cell_type": "code",
      "source": [
        "from abc import ABC, abstractmethod\n",
        "\n",
        "# Interface abstraite pour la base de données des livres\n",
        "class BookDatabasePort(ABC):\n",
        "    @abstractmethod\n",
        "    def add_book(self, book):\n",
        "        pass\n",
        "\n",
        "    @abstractmethod\n",
        "    def get_all_books(self):\n",
        "        pass\n",
        "\n",
        "# Implémentation concrète de l'interface pour la base de données\n",
        "class BookDatabaseImplementation(BookDatabasePort):\n",
        "    def __init__(self):\n",
        "        # Initialisation de la connexion à la base de données\n",
        "        pass\n",
        "\n",
        "    def add_book(self, book):\n",
        "        # Logique pour ajouter un livre à la base de données\n",
        "        pass\n",
        "\n",
        "    def get_all_books(self):\n",
        "        # Logique pour récupérer tous les livres de la base de données\n",
        "        pass\n",
        "\n",
        "# Modification de la classe BookManager pour utiliser le port de base de données\n",
        "class BookManager:\n",
        "    def __init__(self, db_port: BookDatabasePort):\n",
        "        self.db_port = db_port\n",
        "        self.books = []\n",
        "\n",
        "    def add_book(self, book):\n",
        "        self.db_port.add_book(book)\n",
        "        self.books.append(book)\n",
        "\n",
        "    def list_books(self):\n",
        "        return sorted(self.books, key=lambda book: book.title)"
      ],
      "outputs": [],
      "execution_count": null,
      "metadata": {
        "jupyter": {
          "outputs_hidden": false,
          "source_hidden": false
        },
        "noteable": {
          "cell_type": "code"
        },
        "ExecuteTime": {
          "start_time": "2023-11-30T11:13:09.140353+00:00",
          "end_time": "2023-11-30T11:13:09.297509+00:00"
        }
      },
      "id": "85595da6-d3fb-4d78-b583-1a424be1bef1"
    },
    {
      "cell_type": "markdown",
      "source": [
        "## Test de Propriétés\n",
        "\n",
        "Cette section contient les tests de propriétés."
      ],
      "metadata": {
        "noteable": {
          "cell_type": "markdown"
        }
      },
      "id": "a767177f-cabd-419b-ae02-39dc80f5a456"
    },
    {
      "cell_type": "code",
      "source": [
        "# Importation de la bibliothèque Hypothesis\n",
        "from hypothesis import given, strategies as st\n",
        "\n",
        "# Test de propriété pour vérifier que la liste des livres retournés contient tous les éléments de la liste stockée\n",
        "def test_book_list_contains_all_books(book_manager):\n",
        "    @given(st.lists(st.builds(Book, title=st.text(), author=st.text())))\n",
        "    def property_test(books):\n",
        "        for book in books:\n",
        "            book_manager.add_book(book)\n",
        "        assert set(book_manager.list_books()) == set(books)\n",
        "    property_test()"
      ],
      "outputs": [],
      "execution_count": null,
      "metadata": {
        "noteable": {
          "cell_type": "code"
        },
        "ExecuteTime": {
          "start_time": "2023-11-30T11:13:09.329524+00:00",
          "end_time": "2023-11-30T11:13:09.494439+00:00"
        }
      },
      "id": "984f49c6-f6af-4d6e-9d72-a51b24333b0b"
    },
    {
      "cell_type": "code",
      "source": [],
      "outputs": [],
      "execution_count": null,
      "metadata": {
        "jupyter": {
          "source_hidden": false,
          "outputs_hidden": false
        },
        "noteable": {
          "cell_type": "code"
        }
      },
      "id": "e94e22b1-c2ec-4835-898f-acfbc0b99058"
    }
  ],
  "metadata": {
    "noteable-chatgpt": {
      "create_notebook": {
        "openai_conversation_id": "89310b92-4edc-5e4d-81ab-08cc0f13123e",
        "openai_ephemeral_user_id": "368f5081-846e-5bb4-9392-da8e1e2cdaae",
        "openai_subdivision1_iso_code": "FR-NAQ"
      }
    },
    "kernel_info": {
      "name": "python3"
    },
    "kernelspec": {
      "display_name": "Python 3.9",
      "identifier": "legacy",
      "language": "python",
      "language_version": "3.9",
      "name": "python3"
    },
    "selected_hardware_size": "small",
    "noteable": {
      "last_delta_id": "cb71c668-a2cc-446e-8283-d820b0a9cfc3"
    },
    "nteract": {
      "version": "noteable@2.9.0"
    }
  },
  "nbformat": 4,
  "nbformat_minor": 5
}